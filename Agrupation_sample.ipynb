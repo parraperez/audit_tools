{
  "nbformat": 4,
  "nbformat_minor": 0,
  "metadata": {
    "colab": {
      "provenance": [],
      "authorship_tag": "ABX9TyMOqFPFXxgPsdjndavwSKP4",
      "include_colab_link": true
    },
    "kernelspec": {
      "name": "python3",
      "display_name": "Python 3"
    },
    "language_info": {
      "name": "python"
    }
  },
  "cells": [
    {
      "cell_type": "markdown",
      "metadata": {
        "id": "view-in-github",
        "colab_type": "text"
      },
      "source": [
        "<a href=\"https://colab.research.google.com/github/parraperez/audit_tools/blob/main/Agrupation_sample.ipynb\" target=\"_parent\"><img src=\"https://colab.research.google.com/assets/colab-badge.svg\" alt=\"Open In Colab\"/></a>"
      ]
    },
    {
      "cell_type": "code",
      "execution_count": null,
      "metadata": {
        "id": "CbTGKoR9GM6l"
      },
      "outputs": [],
      "source": [
        "import pandas as pd\n",
        "import numpy as np\n",
        "\n",
        "df = pd.read_excel(\"/content/Trinidad Action.xlsx\")\n",
        "\n",
        "elements=int(input(\"Elements to select: \"))\n",
        "\n",
        "print (\"Number of records are:\", df[\"Name of Customer\"].count())\n",
        "\n",
        "print (\"Number of selected items are:\", elements)\n",
        "#df.head(10)\n",
        "a=df.groupby(\"Type\").count()\n",
        "a[\"Participation\"]= a[\"Name of Customer\"]/ a[\"Name of Customer\"].sum()\n",
        "a[\"Selected elements\"]= np.round(a[\"Participation\"]*elements).astype(int)\n",
        "a['index'] = a.index\n",
        "print(\"----------------------------------------\")\n",
        "print(a)\n",
        "print(\"----------------------------------------\")\n",
        "result=pd.DataFrame()\n",
        "for b,c in zip(a[\"index\"],a[\"Selected elements\"]):\n",
        "  print(b,c)\n",
        "  filter=df[df[\"Type\"]==b]\n",
        "  samples= filter.sample(n=c)\n",
        "  result=result.append(samples)\n",
        "  print(samples)\n",
        "  print(\"----------------------------------------\")\n",
        "print(\"*******************************\")\n",
        "print(result)\n",
        "result.to_excel(\"sample.xlsx\")\n",
        "data2 = df.copy()\n",
        "with pd.ExcelWriter('output.xlsx') as writer:\n",
        "  a.to_excel(writer, sheet_name='Criteria')\n",
        "  result.to_excel(writer, sheet_name='result')"
      ]
    }
  ]
}