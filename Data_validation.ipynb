{
  "nbformat": 4,
  "nbformat_minor": 0,
  "metadata": {
    "colab": {
      "provenance": [],
      "authorship_tag": "ABX9TyPm6ZAhFWcWRZthAIWX5k+z",
      "include_colab_link": true
    },
    "kernelspec": {
      "name": "python3",
      "display_name": "Python 3"
    },
    "language_info": {
      "name": "python"
    }
  },
  "cells": [
    {
      "cell_type": "markdown",
      "metadata": {
        "id": "view-in-github",
        "colab_type": "text"
      },
      "source": [
        "<a href=\"https://colab.research.google.com/github/parraperez/audit_tools/blob/main/Data_validation.ipynb\" target=\"_parent\"><img src=\"https://colab.research.google.com/assets/colab-badge.svg\" alt=\"Open In Colab\"/></a>"
      ]
    },
    {
      "cell_type": "code",
      "execution_count": null,
      "metadata": {
        "id": "4UG8vU2DFXJH"
      },
      "outputs": [],
      "source": [
        "import pandas as pd\n",
        "\n",
        "# Load the data\n",
        "data = pd.read_csv('/content/reportGIA.csv', encoding=\"latin-1\")\n",
        "\n",
        "# Check for missing values\n",
        "missing_values = data.isnull().sum()\n",
        "tabla_missing=pd.DataFrame()\n",
        "tabla_missing['index'] = missing_values.index\n",
        "tabla_missing['Q']= missing_values.values\n",
        "print(\"-----------------------------------------------------------------\")\n",
        "print(\"missing_values\")\n",
        "print(\"-----------------------------------------------------------------\")\n",
        "print(missing_values)\n",
        "print(\"-----------------------------------------------------------------\")\n",
        "# Check for data type errors\n",
        "data_types = data.dtypes\n",
        "tabla_types= pd.DataFrame()\n",
        "tabla_types['index'] = data_types.index\n",
        "tabla_types['Types']= data_types.values\n",
        "print(\"Data types\")\n",
        "print(\"-----------------------------------------------------------------\")\n",
        "print(data_types)\n",
        "print(\"-----------------------------------------------------------------\")\n",
        "# Set filters\n",
        "maximum_filter=data[(data[\"Etapa\"]==\"Ganado\")]\n",
        "max_value= maximum_filter[\"Importe (convertido)\"].max()\n",
        "\n",
        "minimum_filter=data[(data[\"Etapa\"]==\"Ganado\")]\n",
        "min_value= minimum_filter[\"Importe (convertido)\"].min()\n",
        "\n",
        "# Check for range errors\n",
        "minimum_set = minimum_filter[minimum_filter[\"Importe (convertido)\"]== min_value]\n",
        "maximo_set = maximum_filter[maximum_filter[\"Importe (convertido)\"]== max_value]\n",
        "print(\"-----------------------------------------------------------------\")\n",
        "print(\"Minimum\")\n",
        "print(\"-----------------------------------------------------------------\")\n",
        "print(minimum_set)\n",
        "print(\"-----------------------------------------------------------------\")\n",
        "print(\"Maximum\")\n",
        "print(\"-----------------------------------------------------------------\")\n",
        "print(maximo_set)\n",
        "print(\"-----------------------------------------------------------------\")\n",
        "\n",
        "# Creating df overview of analysis\n",
        "\n",
        "infor=data.describe()\n",
        "correlations = data.corr()\n",
        "\n",
        "#Overall = pd.Dataframe()\n",
        "#Overall[\"Size\"]\n",
        "\n",
        "data2 = data.copy()\n",
        "with pd.ExcelWriter('output.xlsx') as writer:\n",
        "  tabla_missing.T.to_excel(writer, sheet_name='missing_values')\n",
        "  tabla_types.T.to_excel(writer, sheet_name='data_types')\n",
        "  minimum_set.to_excel(writer, sheet_name=\"data_min\")\n",
        "  maximo_set.to_excel(writer, sheet_name=\"data_max\")\n",
        "  infor.to_excel(writer, sheet_name='infor')\n",
        "  correlations.to_excel(writer, sheet_name='correlations')"
      ]
    }
  ]
}